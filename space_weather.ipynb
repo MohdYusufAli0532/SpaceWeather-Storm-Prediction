{
 "cells": [
  {
   "cell_type": "code",
   "execution_count": 30,
   "id": "d7ed4e52-5a20-45b7-a778-b5e43f24dcd0",
   "metadata": {},
   "outputs": [
    {
     "name": "stdout",
     "output_type": "stream",
     "text": [
      "(8760, 26)\n"
     ]
    },
    {
     "data": {
      "text/html": [
       "<div>\n",
       "<style scoped>\n",
       "    .dataframe tbody tr th:only-of-type {\n",
       "        vertical-align: middle;\n",
       "    }\n",
       "\n",
       "    .dataframe tbody tr th {\n",
       "        vertical-align: top;\n",
       "    }\n",
       "\n",
       "    .dataframe thead th {\n",
       "        text-align: right;\n",
       "    }\n",
       "</style>\n",
       "<table border=\"1\" class=\"dataframe\">\n",
       "  <thead>\n",
       "    <tr style=\"text-align: right;\">\n",
       "      <th></th>\n",
       "      <th>Year</th>\n",
       "      <th>Day</th>\n",
       "      <th>Hour</th>\n",
       "      <th>DOY_frac</th>\n",
       "      <th>R</th>\n",
       "      <th>Dst</th>\n",
       "      <th>AE</th>\n",
       "      <th>AL</th>\n",
       "      <th>AU</th>\n",
       "      <th>Ap</th>\n",
       "      <th>...</th>\n",
       "      <th>Kp6</th>\n",
       "      <th>Kp7</th>\n",
       "      <th>Kp8</th>\n",
       "      <th>SW_speed</th>\n",
       "      <th>SW_density</th>\n",
       "      <th>SW_temp</th>\n",
       "      <th>IMF_total</th>\n",
       "      <th>IMF_Bx</th>\n",
       "      <th>IMF_By</th>\n",
       "      <th>IMF_Bz</th>\n",
       "    </tr>\n",
       "  </thead>\n",
       "  <tbody>\n",
       "    <tr>\n",
       "      <th>0</th>\n",
       "      <td>1963</td>\n",
       "      <td>1</td>\n",
       "      <td>0</td>\n",
       "      <td>1771 99</td>\n",
       "      <td>99 999</td>\n",
       "      <td>999 9</td>\n",
       "      <td>99.9 9</td>\n",
       "      <td>99.9 9</td>\n",
       "      <td>99.9 9</td>\n",
       "      <td>99.9 9</td>\n",
       "      <td>...</td>\n",
       "      <td>99.9 9</td>\n",
       "      <td>99.9 9</td>\n",
       "      <td>99.9 9</td>\n",
       "      <td>99.9 9</td>\n",
       "      <td>999999</td>\n",
       "      <td>. 999.</td>\n",
       "      <td>9 9999</td>\n",
       "      <td>. 999.</td>\n",
       "      <td>9 999.</td>\n",
       "      <td>9 9.99</td>\n",
       "    </tr>\n",
       "    <tr>\n",
       "      <th>1</th>\n",
       "      <td>1963</td>\n",
       "      <td>1</td>\n",
       "      <td>1</td>\n",
       "      <td>1771 99</td>\n",
       "      <td>99 999</td>\n",
       "      <td>999 9</td>\n",
       "      <td>99.9 9</td>\n",
       "      <td>99.9 9</td>\n",
       "      <td>99.9 9</td>\n",
       "      <td>99.9 9</td>\n",
       "      <td>...</td>\n",
       "      <td>99.9 9</td>\n",
       "      <td>99.9 9</td>\n",
       "      <td>99.9 9</td>\n",
       "      <td>99.9 9</td>\n",
       "      <td>999999</td>\n",
       "      <td>. 999.</td>\n",
       "      <td>9 9999</td>\n",
       "      <td>. 999.</td>\n",
       "      <td>9 999.</td>\n",
       "      <td>9 9.99</td>\n",
       "    </tr>\n",
       "    <tr>\n",
       "      <th>2</th>\n",
       "      <td>1963</td>\n",
       "      <td>1</td>\n",
       "      <td>2</td>\n",
       "      <td>1771 99</td>\n",
       "      <td>99 999</td>\n",
       "      <td>999 9</td>\n",
       "      <td>99.9 9</td>\n",
       "      <td>99.9 9</td>\n",
       "      <td>99.9 9</td>\n",
       "      <td>99.9 9</td>\n",
       "      <td>...</td>\n",
       "      <td>99.9 9</td>\n",
       "      <td>99.9 9</td>\n",
       "      <td>99.9 9</td>\n",
       "      <td>99.9 9</td>\n",
       "      <td>999999</td>\n",
       "      <td>. 999.</td>\n",
       "      <td>9 9999</td>\n",
       "      <td>. 999.</td>\n",
       "      <td>9 999.</td>\n",
       "      <td>9 9.99</td>\n",
       "    </tr>\n",
       "    <tr>\n",
       "      <th>3</th>\n",
       "      <td>1963</td>\n",
       "      <td>1</td>\n",
       "      <td>3</td>\n",
       "      <td>1771 99</td>\n",
       "      <td>99 999</td>\n",
       "      <td>999 9</td>\n",
       "      <td>99.9 9</td>\n",
       "      <td>99.9 9</td>\n",
       "      <td>99.9 9</td>\n",
       "      <td>99.9 9</td>\n",
       "      <td>...</td>\n",
       "      <td>99.9 9</td>\n",
       "      <td>99.9 9</td>\n",
       "      <td>99.9 9</td>\n",
       "      <td>99.9 9</td>\n",
       "      <td>999999</td>\n",
       "      <td>. 999.</td>\n",
       "      <td>9 9999</td>\n",
       "      <td>. 999.</td>\n",
       "      <td>9 999.</td>\n",
       "      <td>9 9.99</td>\n",
       "    </tr>\n",
       "    <tr>\n",
       "      <th>4</th>\n",
       "      <td>1963</td>\n",
       "      <td>1</td>\n",
       "      <td>4</td>\n",
       "      <td>1771 99</td>\n",
       "      <td>99 999</td>\n",
       "      <td>999 9</td>\n",
       "      <td>99.9 9</td>\n",
       "      <td>99.9 9</td>\n",
       "      <td>99.9 9</td>\n",
       "      <td>99.9 9</td>\n",
       "      <td>...</td>\n",
       "      <td>99.9 9</td>\n",
       "      <td>99.9 9</td>\n",
       "      <td>99.9 9</td>\n",
       "      <td>99.9 9</td>\n",
       "      <td>999999</td>\n",
       "      <td>. 999.</td>\n",
       "      <td>9 9999</td>\n",
       "      <td>. 999.</td>\n",
       "      <td>9 999.</td>\n",
       "      <td>9 9.99</td>\n",
       "    </tr>\n",
       "  </tbody>\n",
       "</table>\n",
       "<p>5 rows × 26 columns</p>\n",
       "</div>"
      ],
      "text/plain": [
       "   Year  Day  Hour DOY_frac       R    Dst      AE      AL      AU      Ap  \\\n",
       "0  1963    1     0  1771 99  99 999  999 9  99.9 9  99.9 9  99.9 9  99.9 9   \n",
       "1  1963    1     1  1771 99  99 999  999 9  99.9 9  99.9 9  99.9 9  99.9 9   \n",
       "2  1963    1     2  1771 99  99 999  999 9  99.9 9  99.9 9  99.9 9  99.9 9   \n",
       "3  1963    1     3  1771 99  99 999  999 9  99.9 9  99.9 9  99.9 9  99.9 9   \n",
       "4  1963    1     4  1771 99  99 999  999 9  99.9 9  99.9 9  99.9 9  99.9 9   \n",
       "\n",
       "   ...     Kp6     Kp7     Kp8 SW_speed SW_density SW_temp IMF_total  IMF_Bx  \\\n",
       "0  ...  99.9 9  99.9 9  99.9 9   99.9 9     999999  . 999.    9 9999  . 999.   \n",
       "1  ...  99.9 9  99.9 9  99.9 9   99.9 9     999999  . 999.    9 9999  . 999.   \n",
       "2  ...  99.9 9  99.9 9  99.9 9   99.9 9     999999  . 999.    9 9999  . 999.   \n",
       "3  ...  99.9 9  99.9 9  99.9 9   99.9 9     999999  . 999.    9 9999  . 999.   \n",
       "4  ...  99.9 9  99.9 9  99.9 9   99.9 9     999999  . 999.    9 9999  . 999.   \n",
       "\n",
       "   IMF_By  IMF_Bz  \n",
       "0  9 999.  9 9.99  \n",
       "1  9 999.  9 9.99  \n",
       "2  9 999.  9 9.99  \n",
       "3  9 999.  9 9.99  \n",
       "4  9 999.  9 9.99  \n",
       "\n",
       "[5 rows x 26 columns]"
      ]
     },
     "execution_count": 30,
     "metadata": {},
     "output_type": "execute_result"
    }
   ],
   "source": [
    "import pandas as pd\n",
    "\n",
    "# Column names based on OMNIWeb format\n",
    "column_names = [\n",
    "    \"Year\", \"Day\", \"Hour\", \"DOY_frac\", \"R\", \"Dst\", \"AE\", \"AL\", \"AU\", \"Ap\",\n",
    "    \"F107\", \"Kp1\", \"Kp2\", \"Kp3\", \"Kp4\", \"Kp5\", \"Kp6\", \"Kp7\", \"Kp8\",\n",
    "    \"SW_speed\", \"SW_density\", \"SW_temp\", \"IMF_total\", \"IMF_Bx\", \"IMF_By\", \"IMF_Bz\"\n",
    "]\n",
    "\n",
    "# Load the .dat file (ensure it's in the same folder as your notebook)\n",
    "df = pd.read_fwf(\"omni2_1963.dat\", header=None, widths=[4, 4, 4, 8] + [6]*22, names=column_names)\n",
    "\n",
    "# Show the first 5 rows\n",
    "print(df.shape)\n",
    "\n",
    "df.head()\n"
   ]
  },
  {
   "cell_type": "code",
   "execution_count": 16,
   "id": "4d9b271b-3d50-40eb-ad82-6dce8aae0079",
   "metadata": {},
   "outputs": [
    {
     "data": {
      "text/html": [
       "<div>\n",
       "<style scoped>\n",
       "    .dataframe tbody tr th:only-of-type {\n",
       "        vertical-align: middle;\n",
       "    }\n",
       "\n",
       "    .dataframe tbody tr th {\n",
       "        vertical-align: top;\n",
       "    }\n",
       "\n",
       "    .dataframe thead th {\n",
       "        text-align: right;\n",
       "    }\n",
       "</style>\n",
       "<table border=\"1\" class=\"dataframe\">\n",
       "  <thead>\n",
       "    <tr style=\"text-align: right;\">\n",
       "      <th></th>\n",
       "      <th>Year</th>\n",
       "      <th>Day</th>\n",
       "      <th>Hour</th>\n",
       "      <th>DOY_frac</th>\n",
       "      <th>R</th>\n",
       "      <th>Dst</th>\n",
       "      <th>AE</th>\n",
       "      <th>AL</th>\n",
       "      <th>AU</th>\n",
       "      <th>Ap</th>\n",
       "      <th>...</th>\n",
       "      <th>Kp6</th>\n",
       "      <th>Kp7</th>\n",
       "      <th>Kp8</th>\n",
       "      <th>SW_speed</th>\n",
       "      <th>SW_density</th>\n",
       "      <th>SW_temp</th>\n",
       "      <th>IMF_total</th>\n",
       "      <th>IMF_Bx</th>\n",
       "      <th>IMF_By</th>\n",
       "      <th>IMF_Bz</th>\n",
       "    </tr>\n",
       "    <tr>\n",
       "      <th>Datetime</th>\n",
       "      <th></th>\n",
       "      <th></th>\n",
       "      <th></th>\n",
       "      <th></th>\n",
       "      <th></th>\n",
       "      <th></th>\n",
       "      <th></th>\n",
       "      <th></th>\n",
       "      <th></th>\n",
       "      <th></th>\n",
       "      <th></th>\n",
       "      <th></th>\n",
       "      <th></th>\n",
       "      <th></th>\n",
       "      <th></th>\n",
       "      <th></th>\n",
       "      <th></th>\n",
       "      <th></th>\n",
       "      <th></th>\n",
       "      <th></th>\n",
       "      <th></th>\n",
       "    </tr>\n",
       "  </thead>\n",
       "  <tbody>\n",
       "    <tr>\n",
       "      <th>1963-01-01 00:00:00</th>\n",
       "      <td>1963</td>\n",
       "      <td>1</td>\n",
       "      <td>0</td>\n",
       "      <td>1771 99</td>\n",
       "      <td>99 999</td>\n",
       "      <td>999 9</td>\n",
       "      <td>99.9 9</td>\n",
       "      <td>99.9 9</td>\n",
       "      <td>99.9 9</td>\n",
       "      <td>99.9 9</td>\n",
       "      <td>...</td>\n",
       "      <td>99.9 9</td>\n",
       "      <td>99.9 9</td>\n",
       "      <td>99.9 9</td>\n",
       "      <td>99.9 9</td>\n",
       "      <td>999999</td>\n",
       "      <td>. 999.</td>\n",
       "      <td>9 9999</td>\n",
       "      <td>. 999.</td>\n",
       "      <td>9 999.</td>\n",
       "      <td>9 9.99</td>\n",
       "    </tr>\n",
       "    <tr>\n",
       "      <th>1963-01-01 01:00:00</th>\n",
       "      <td>1963</td>\n",
       "      <td>1</td>\n",
       "      <td>1</td>\n",
       "      <td>1771 99</td>\n",
       "      <td>99 999</td>\n",
       "      <td>999 9</td>\n",
       "      <td>99.9 9</td>\n",
       "      <td>99.9 9</td>\n",
       "      <td>99.9 9</td>\n",
       "      <td>99.9 9</td>\n",
       "      <td>...</td>\n",
       "      <td>99.9 9</td>\n",
       "      <td>99.9 9</td>\n",
       "      <td>99.9 9</td>\n",
       "      <td>99.9 9</td>\n",
       "      <td>999999</td>\n",
       "      <td>. 999.</td>\n",
       "      <td>9 9999</td>\n",
       "      <td>. 999.</td>\n",
       "      <td>9 999.</td>\n",
       "      <td>9 9.99</td>\n",
       "    </tr>\n",
       "    <tr>\n",
       "      <th>1963-01-01 02:00:00</th>\n",
       "      <td>1963</td>\n",
       "      <td>1</td>\n",
       "      <td>2</td>\n",
       "      <td>1771 99</td>\n",
       "      <td>99 999</td>\n",
       "      <td>999 9</td>\n",
       "      <td>99.9 9</td>\n",
       "      <td>99.9 9</td>\n",
       "      <td>99.9 9</td>\n",
       "      <td>99.9 9</td>\n",
       "      <td>...</td>\n",
       "      <td>99.9 9</td>\n",
       "      <td>99.9 9</td>\n",
       "      <td>99.9 9</td>\n",
       "      <td>99.9 9</td>\n",
       "      <td>999999</td>\n",
       "      <td>. 999.</td>\n",
       "      <td>9 9999</td>\n",
       "      <td>. 999.</td>\n",
       "      <td>9 999.</td>\n",
       "      <td>9 9.99</td>\n",
       "    </tr>\n",
       "    <tr>\n",
       "      <th>1963-01-01 03:00:00</th>\n",
       "      <td>1963</td>\n",
       "      <td>1</td>\n",
       "      <td>3</td>\n",
       "      <td>1771 99</td>\n",
       "      <td>99 999</td>\n",
       "      <td>999 9</td>\n",
       "      <td>99.9 9</td>\n",
       "      <td>99.9 9</td>\n",
       "      <td>99.9 9</td>\n",
       "      <td>99.9 9</td>\n",
       "      <td>...</td>\n",
       "      <td>99.9 9</td>\n",
       "      <td>99.9 9</td>\n",
       "      <td>99.9 9</td>\n",
       "      <td>99.9 9</td>\n",
       "      <td>999999</td>\n",
       "      <td>. 999.</td>\n",
       "      <td>9 9999</td>\n",
       "      <td>. 999.</td>\n",
       "      <td>9 999.</td>\n",
       "      <td>9 9.99</td>\n",
       "    </tr>\n",
       "    <tr>\n",
       "      <th>1963-01-01 04:00:00</th>\n",
       "      <td>1963</td>\n",
       "      <td>1</td>\n",
       "      <td>4</td>\n",
       "      <td>1771 99</td>\n",
       "      <td>99 999</td>\n",
       "      <td>999 9</td>\n",
       "      <td>99.9 9</td>\n",
       "      <td>99.9 9</td>\n",
       "      <td>99.9 9</td>\n",
       "      <td>99.9 9</td>\n",
       "      <td>...</td>\n",
       "      <td>99.9 9</td>\n",
       "      <td>99.9 9</td>\n",
       "      <td>99.9 9</td>\n",
       "      <td>99.9 9</td>\n",
       "      <td>999999</td>\n",
       "      <td>. 999.</td>\n",
       "      <td>9 9999</td>\n",
       "      <td>. 999.</td>\n",
       "      <td>9 999.</td>\n",
       "      <td>9 9.99</td>\n",
       "    </tr>\n",
       "  </tbody>\n",
       "</table>\n",
       "<p>5 rows × 26 columns</p>\n",
       "</div>"
      ],
      "text/plain": [
       "                     Year  Day  Hour DOY_frac       R    Dst      AE      AL  \\\n",
       "Datetime                                                                       \n",
       "1963-01-01 00:00:00  1963    1     0  1771 99  99 999  999 9  99.9 9  99.9 9   \n",
       "1963-01-01 01:00:00  1963    1     1  1771 99  99 999  999 9  99.9 9  99.9 9   \n",
       "1963-01-01 02:00:00  1963    1     2  1771 99  99 999  999 9  99.9 9  99.9 9   \n",
       "1963-01-01 03:00:00  1963    1     3  1771 99  99 999  999 9  99.9 9  99.9 9   \n",
       "1963-01-01 04:00:00  1963    1     4  1771 99  99 999  999 9  99.9 9  99.9 9   \n",
       "\n",
       "                         AU      Ap  ...     Kp6     Kp7     Kp8 SW_speed  \\\n",
       "Datetime                             ...                                    \n",
       "1963-01-01 00:00:00  99.9 9  99.9 9  ...  99.9 9  99.9 9  99.9 9   99.9 9   \n",
       "1963-01-01 01:00:00  99.9 9  99.9 9  ...  99.9 9  99.9 9  99.9 9   99.9 9   \n",
       "1963-01-01 02:00:00  99.9 9  99.9 9  ...  99.9 9  99.9 9  99.9 9   99.9 9   \n",
       "1963-01-01 03:00:00  99.9 9  99.9 9  ...  99.9 9  99.9 9  99.9 9   99.9 9   \n",
       "1963-01-01 04:00:00  99.9 9  99.9 9  ...  99.9 9  99.9 9  99.9 9   99.9 9   \n",
       "\n",
       "                    SW_density SW_temp IMF_total  IMF_Bx  IMF_By  IMF_Bz  \n",
       "Datetime                                                                  \n",
       "1963-01-01 00:00:00     999999  . 999.    9 9999  . 999.  9 999.  9 9.99  \n",
       "1963-01-01 01:00:00     999999  . 999.    9 9999  . 999.  9 999.  9 9.99  \n",
       "1963-01-01 02:00:00     999999  . 999.    9 9999  . 999.  9 999.  9 9.99  \n",
       "1963-01-01 03:00:00     999999  . 999.    9 9999  . 999.  9 999.  9 9.99  \n",
       "1963-01-01 04:00:00     999999  . 999.    9 9999  . 999.  9 999.  9 9.99  \n",
       "\n",
       "[5 rows x 26 columns]"
      ]
     },
     "execution_count": 16,
     "metadata": {},
     "output_type": "execute_result"
    }
   ],
   "source": [
    "# Create datetime from Year, Day of Year, and Hour\n",
    "df['Datetime'] = pd.to_datetime(df['Year'] * 1000 + df['Day'], format='%Y%j') + pd.to_timedelta(df['Hour'], unit='h')\n",
    "df.set_index('Datetime', inplace=True)\n",
    "df.head()\n"
   ]
  },
  {
   "cell_type": "code",
   "execution_count": 19,
   "id": "2b529678-0556-4602-a5b4-837d2521df47",
   "metadata": {},
   "outputs": [],
   "source": [
    "# Replace missing values (e.g., 999.9) with NaN\n",
    "df.replace([9999.9, 999.9, 999.0, 99.99, 99999.0, 999999], pd.NA, inplace=True)\n",
    "\n",
    "# Drop rows with missing key values\n",
    "df.dropna(subset=['SW_speed', 'SW_density', 'IMF_Bz', 'Kp1'], inplace=True)\n"
   ]
  },
  {
   "cell_type": "code",
   "execution_count": 20,
   "id": "ea8bfa22-a3fe-4a95-bb81-a4a9da8b82dd",
   "metadata": {},
   "outputs": [
    {
     "data": {
      "text/plain": [
       "Series([], Name: count, dtype: int64)"
      ]
     },
     "execution_count": 20,
     "metadata": {},
     "output_type": "execute_result"
    }
   ],
   "source": [
    "# Define storm condition based on Kp indices\n",
    "def is_storm(row):\n",
    "    return 1 if any(kp >= 5 for kp in [row['Kp1'], row['Kp2'], row['Kp3'], row['Kp4'],\n",
    "                                       row['Kp5'], row['Kp6'], row['Kp7'], row['Kp8']]) else 0\n",
    "\n",
    "df['storm'] = df.apply(is_storm, axis=1)\n",
    "df[['storm']].value_counts()\n"
   ]
  },
  {
   "cell_type": "code",
   "execution_count": 24,
   "id": "7f979d6d-0bd3-4b5c-a4cd-4c374e29c3e5",
   "metadata": {},
   "outputs": [
    {
     "name": "stdout",
     "output_type": "stream",
     "text": [
      "Empty DataFrame\n",
      "Columns: [Kp1, Kp2, Kp3, Kp4, Kp5, Kp6, Kp7, Kp8]\n",
      "Index: []\n"
     ]
    }
   ],
   "source": [
    "kp_cols = ['Kp1', 'Kp2', 'Kp3', 'Kp4', 'Kp5', 'Kp6', 'Kp7', 'Kp8']\n",
    "print(df[kp_cols].head(10))\n"
   ]
  },
  {
   "cell_type": "code",
   "execution_count": 31,
   "id": "614e038a-5831-4652-b904-81966e64ab1a",
   "metadata": {},
   "outputs": [
    {
     "name": "stdout",
     "output_type": "stream",
     "text": [
      "      Kp1  Kp2  Kp3  Kp4  Kp5  Kp6  Kp7  Kp8\n",
      "7934  1.5  0.2  1.5 -0.2  0.7  3.1  1.4  2.1\n",
      "7935  0.1  1.8  0.5  1.7  0.4  1.0  0.5  0.7\n",
      "7936  2.0  4.1  2.7  3.7  0.6  2.7  0.6  2.2\n",
      "7937  0.8  3.6  1.2  3.5  1.4  3.7  2.0  1.6\n",
      "7938  1.5  3.6  1.8  3.5  0.7  2.2  0.7  1.5\n"
     ]
    }
   ],
   "source": [
    "kp_cols = ['Kp1', 'Kp2', 'Kp3', 'Kp4', 'Kp5', 'Kp6', 'Kp7', 'Kp8']\n",
    "\n",
    "# Convert to numeric, coerce errors to NaN\n",
    "for col in kp_cols:\n",
    "    df[col] = pd.to_numeric(df[col], errors='coerce')\n",
    "\n",
    "# Drop rows where all Kp values are missing\n",
    "df.dropna(subset=kp_cols, how='all', inplace=True)\n",
    "\n",
    "# Print sample to verify\n",
    "print(df[kp_cols].head())\n",
    "\n"
   ]
  },
  {
   "cell_type": "code",
   "execution_count": 32,
   "id": "75b0840c-da2e-4d7d-9561-d328f442fd64",
   "metadata": {},
   "outputs": [
    {
     "name": "stdout",
     "output_type": "stream",
     "text": [
      "storm\n",
      "0    527\n",
      "1    105\n",
      "Name: count, dtype: int64\n"
     ]
    }
   ],
   "source": [
    "def is_storm(row):\n",
    "    return 1 if any(kp >= 5 for kp in [row['Kp1'], row['Kp2'], row['Kp3'], row['Kp4'],\n",
    "                                       row['Kp5'], row['Kp6'], row['Kp7'], row['Kp8']]) else 0\n",
    "\n",
    "df['storm'] = df.apply(is_storm, axis=1)\n",
    "\n",
    "# Show count of storm vs non-storm hours\n",
    "print(df['storm'].value_counts())\n"
   ]
  },
  {
   "cell_type": "code",
   "execution_count": 10,
   "id": "c3af76eb-2216-472b-9688-bbbd56bbf7a6",
   "metadata": {},
   "outputs": [
    {
     "name": "stdout",
     "output_type": "stream",
     "text": [
      "(0, 27)\n"
     ]
    }
   ],
   "source": [
    "print(df.shape)\n"
   ]
  },
  {
   "cell_type": "code",
   "execution_count": 29,
   "id": "6e432838-3ebc-415c-a82e-e507397fe009",
   "metadata": {},
   "outputs": [
    {
     "name": "stdout",
     "output_type": "stream",
     "text": [
      "['Year', 'Day', 'Hour', 'DOY_frac', 'R', 'Dst', 'AE', 'AL', 'AU', 'Ap', 'F107', 'Kp1', 'Kp2', 'Kp3', 'Kp4', 'Kp5', 'Kp6', 'Kp7', 'Kp8', 'SW_speed', 'SW_density', 'SW_temp', 'IMF_total', 'IMF_Bx', 'IMF_By', 'IMF_Bz', 'storm']\n"
     ]
    }
   ],
   "source": [
    "print(df.columns.tolist())\n"
   ]
  },
  {
   "cell_type": "code",
   "execution_count": 25,
   "id": "22917950-7b1f-420a-be5e-62127b122084",
   "metadata": {},
   "outputs": [
    {
     "name": "stdout",
     "output_type": "stream",
     "text": [
      "Series([], Name: count, dtype: int64)\n"
     ]
    }
   ],
   "source": [
    "import pandas as pd\n",
    "\n",
    "# Kp columns\n",
    "kp_cols = ['Kp1', 'Kp2', 'Kp3', 'Kp4', 'Kp5', 'Kp6', 'Kp7', 'Kp8']\n",
    "\n",
    "# Clean Kp values: handle strings like '4-', '5+', etc.\n",
    "def parse_kp(kp_str):\n",
    "    if pd.isna(kp_str):\n",
    "        return None\n",
    "    kp_str = str(kp_str).strip().replace('+', '.3').replace('-', '.0').replace('o', '.7')\n",
    "    try:\n",
    "        return float(kp_str)\n",
    "    except:\n",
    "        return None\n",
    "\n",
    "# Apply cleaning\n",
    "for col in kp_cols:\n",
    "    df[col] = df[col].apply(parse_kp)\n",
    "\n",
    "# Drop rows where all Kp values are missing\n",
    "df.dropna(subset=kp_cols, how='all', inplace=True)\n",
    "\n",
    "# Label storms: Kp ≥ 5 in any of the 8 values\n",
    "def is_storm(row):\n",
    "    return 1 if any(kp is not None and kp >= 5 for kp in [row[c] for c in kp_cols]) else 0\n",
    "\n",
    "df['storm'] = df.apply(is_storm, axis=1)\n",
    "\n",
    "# Count storm vs non-storm rows\n",
    "print(df['storm'].value_counts())\n"
   ]
  },
  {
   "cell_type": "code",
   "execution_count": 33,
   "id": "a9bda69f-c737-47c9-89a9-a260d8685697",
   "metadata": {},
   "outputs": [],
   "source": [
    "features = [\n",
    "    'R', 'Dst', 'AE', 'AL', 'AU', 'Ap', 'F107',\n",
    "    'SW_speed', 'SW_density', 'SW_temp',\n",
    "    'IMF_total', 'IMF_Bx', 'IMF_By', 'IMF_Bz'\n",
    "]\n",
    "target = 'storm'\n"
   ]
  },
  {
   "cell_type": "code",
   "execution_count": 28,
   "id": "d8eac093-1d0e-4abb-878c-0bf128c94420",
   "metadata": {
    "scrolled": true
   },
   "outputs": [
    {
     "data": {
      "text/html": [
       "<div>\n",
       "<style scoped>\n",
       "    .dataframe tbody tr th:only-of-type {\n",
       "        vertical-align: middle;\n",
       "    }\n",
       "\n",
       "    .dataframe tbody tr th {\n",
       "        vertical-align: top;\n",
       "    }\n",
       "\n",
       "    .dataframe thead th {\n",
       "        text-align: right;\n",
       "    }\n",
       "</style>\n",
       "<table border=\"1\" class=\"dataframe\">\n",
       "  <thead>\n",
       "    <tr style=\"text-align: right;\">\n",
       "      <th></th>\n",
       "      <th>1963</th>\n",
       "      <th>1</th>\n",
       "      <th>0</th>\n",
       "      <th>1771</th>\n",
       "      <th>99</th>\n",
       "      <th>99.1</th>\n",
       "      <th>999</th>\n",
       "      <th>999.1</th>\n",
       "      <th>999.9</th>\n",
       "      <th>999.9.1</th>\n",
       "      <th>...</th>\n",
       "      <th>99999.99.2</th>\n",
       "      <th>99999.99.3</th>\n",
       "      <th>99999.99.4</th>\n",
       "      <th>0.1</th>\n",
       "      <th>3</th>\n",
       "      <th>999.9.21</th>\n",
       "      <th>999.9.22</th>\n",
       "      <th>99999</th>\n",
       "      <th>99999.1</th>\n",
       "      <th>99.9</th>\n",
       "    </tr>\n",
       "  </thead>\n",
       "  <tbody>\n",
       "    <tr>\n",
       "      <th>0</th>\n",
       "      <td>1963</td>\n",
       "      <td>1</td>\n",
       "      <td>1</td>\n",
       "      <td>1771</td>\n",
       "      <td>99</td>\n",
       "      <td>99</td>\n",
       "      <td>999</td>\n",
       "      <td>999</td>\n",
       "      <td>999.9</td>\n",
       "      <td>999.9</td>\n",
       "      <td>...</td>\n",
       "      <td>99999.99</td>\n",
       "      <td>99999.99</td>\n",
       "      <td>99999.99</td>\n",
       "      <td>0</td>\n",
       "      <td>3</td>\n",
       "      <td>999.9</td>\n",
       "      <td>999.9</td>\n",
       "      <td>99999</td>\n",
       "      <td>99999</td>\n",
       "      <td>99.9</td>\n",
       "    </tr>\n",
       "    <tr>\n",
       "      <th>1</th>\n",
       "      <td>1963</td>\n",
       "      <td>1</td>\n",
       "      <td>2</td>\n",
       "      <td>1771</td>\n",
       "      <td>99</td>\n",
       "      <td>99</td>\n",
       "      <td>999</td>\n",
       "      <td>999</td>\n",
       "      <td>999.9</td>\n",
       "      <td>999.9</td>\n",
       "      <td>...</td>\n",
       "      <td>99999.99</td>\n",
       "      <td>99999.99</td>\n",
       "      <td>99999.99</td>\n",
       "      <td>0</td>\n",
       "      <td>3</td>\n",
       "      <td>999.9</td>\n",
       "      <td>999.9</td>\n",
       "      <td>99999</td>\n",
       "      <td>99999</td>\n",
       "      <td>99.9</td>\n",
       "    </tr>\n",
       "    <tr>\n",
       "      <th>2</th>\n",
       "      <td>1963</td>\n",
       "      <td>1</td>\n",
       "      <td>3</td>\n",
       "      <td>1771</td>\n",
       "      <td>99</td>\n",
       "      <td>99</td>\n",
       "      <td>999</td>\n",
       "      <td>999</td>\n",
       "      <td>999.9</td>\n",
       "      <td>999.9</td>\n",
       "      <td>...</td>\n",
       "      <td>99999.99</td>\n",
       "      <td>99999.99</td>\n",
       "      <td>99999.99</td>\n",
       "      <td>0</td>\n",
       "      <td>7</td>\n",
       "      <td>999.9</td>\n",
       "      <td>999.9</td>\n",
       "      <td>99999</td>\n",
       "      <td>99999</td>\n",
       "      <td>99.9</td>\n",
       "    </tr>\n",
       "    <tr>\n",
       "      <th>3</th>\n",
       "      <td>1963</td>\n",
       "      <td>1</td>\n",
       "      <td>4</td>\n",
       "      <td>1771</td>\n",
       "      <td>99</td>\n",
       "      <td>99</td>\n",
       "      <td>999</td>\n",
       "      <td>999</td>\n",
       "      <td>999.9</td>\n",
       "      <td>999.9</td>\n",
       "      <td>...</td>\n",
       "      <td>99999.99</td>\n",
       "      <td>99999.99</td>\n",
       "      <td>99999.99</td>\n",
       "      <td>0</td>\n",
       "      <td>7</td>\n",
       "      <td>999.9</td>\n",
       "      <td>999.9</td>\n",
       "      <td>99999</td>\n",
       "      <td>99999</td>\n",
       "      <td>99.9</td>\n",
       "    </tr>\n",
       "    <tr>\n",
       "      <th>4</th>\n",
       "      <td>1963</td>\n",
       "      <td>1</td>\n",
       "      <td>5</td>\n",
       "      <td>1771</td>\n",
       "      <td>99</td>\n",
       "      <td>99</td>\n",
       "      <td>999</td>\n",
       "      <td>999</td>\n",
       "      <td>999.9</td>\n",
       "      <td>999.9</td>\n",
       "      <td>...</td>\n",
       "      <td>99999.99</td>\n",
       "      <td>99999.99</td>\n",
       "      <td>99999.99</td>\n",
       "      <td>0</td>\n",
       "      <td>7</td>\n",
       "      <td>999.9</td>\n",
       "      <td>999.9</td>\n",
       "      <td>99999</td>\n",
       "      <td>99999</td>\n",
       "      <td>99.9</td>\n",
       "    </tr>\n",
       "  </tbody>\n",
       "</table>\n",
       "<p>5 rows × 55 columns</p>\n",
       "</div>"
      ],
      "text/plain": [
       "   1963  1  0  1771  99  99.1  999  999.1  999.9  999.9.1  ...  99999.99.2  \\\n",
       "0  1963  1  1  1771  99    99  999    999  999.9    999.9  ...    99999.99   \n",
       "1  1963  1  2  1771  99    99  999    999  999.9    999.9  ...    99999.99   \n",
       "2  1963  1  3  1771  99    99  999    999  999.9    999.9  ...    99999.99   \n",
       "3  1963  1  4  1771  99    99  999    999  999.9    999.9  ...    99999.99   \n",
       "4  1963  1  5  1771  99    99  999    999  999.9    999.9  ...    99999.99   \n",
       "\n",
       "   99999.99.3  99999.99.4  0.1  3  999.9.21  999.9.22  99999  99999.1  99.9  \n",
       "0    99999.99    99999.99    0  3     999.9     999.9  99999    99999  99.9  \n",
       "1    99999.99    99999.99    0  3     999.9     999.9  99999    99999  99.9  \n",
       "2    99999.99    99999.99    0  7     999.9     999.9  99999    99999  99.9  \n",
       "3    99999.99    99999.99    0  7     999.9     999.9  99999    99999  99.9  \n",
       "4    99999.99    99999.99    0  7     999.9     999.9  99999    99999  99.9  \n",
       "\n",
       "[5 rows x 55 columns]"
      ]
     },
     "execution_count": 28,
     "metadata": {},
     "output_type": "execute_result"
    }
   ],
   "source": [
    "\n",
    "df_raw = pd.read_fwf(\"omni2_1963.dat\", infer_nrows=100, inferWidths=True)\n",
    "df_raw.head()\n"
   ]
  },
  {
   "cell_type": "code",
   "execution_count": 35,
   "id": "0b6aeeb1-b274-4928-a411-afc6d85b9c48",
   "metadata": {},
   "outputs": [
    {
     "name": "stdout",
     "output_type": "stream",
     "text": [
      "Year            int64\n",
      "Day             int64\n",
      "Hour            int64\n",
      "DOY_frac      float64\n",
      "R             float64\n",
      "Dst             int64\n",
      "AE            float64\n",
      "AL            float64\n",
      "AU            float64\n",
      "Ap            float64\n",
      "F107          float64\n",
      "Kp1           float64\n",
      "Kp2           float64\n",
      "Kp3           float64\n",
      "Kp4           float64\n",
      "Kp5           float64\n",
      "Kp6           float64\n",
      "Kp7           float64\n",
      "Kp8           float64\n",
      "SW_speed      float64\n",
      "SW_density      int64\n",
      "SW_temp       float64\n",
      "IMF_total     float64\n",
      "IMF_Bx        float64\n",
      "IMF_By        float64\n",
      "IMF_Bz        float64\n",
      "storm           int64\n",
      "dtype: object\n"
     ]
    }
   ],
   "source": [
    "# Convert all columns (except maybe your target) to numeric\n",
    "for col in df.columns:\n",
    "    if df[col].dtype == 'object':\n",
    "        df[col] = pd.to_numeric(df[col], errors='coerce')\n",
    "\n",
    "# Check again\n",
    "print(df.dtypes)\n"
   ]
  },
  {
   "cell_type": "code",
   "execution_count": 36,
   "id": "61da50f8-4e37-4310-90b1-c8adb33091db",
   "metadata": {},
   "outputs": [
    {
     "name": "stdout",
     "output_type": "stream",
     "text": [
      "Year            0\n",
      "Day             0\n",
      "Hour            0\n",
      "DOY_frac      632\n",
      "R             632\n",
      "Dst             0\n",
      "AE              0\n",
      "AL            201\n",
      "AU            553\n",
      "Ap              0\n",
      "F107            3\n",
      "Kp1             0\n",
      "Kp2             3\n",
      "Kp3             0\n",
      "Kp4             0\n",
      "Kp5             0\n",
      "Kp6             0\n",
      "Kp7             0\n",
      "Kp8             0\n",
      "SW_speed      632\n",
      "SW_density      0\n",
      "SW_temp       632\n",
      "IMF_total     632\n",
      "IMF_Bx        632\n",
      "IMF_By        632\n",
      "IMF_Bz        632\n",
      "storm           0\n",
      "dtype: int64\n"
     ]
    }
   ],
   "source": [
    "print(df.isnull().sum())\n"
   ]
  },
  {
   "cell_type": "code",
   "execution_count": 41,
   "id": "c2c1bd7c-37c4-4f58-b455-787008334546",
   "metadata": {},
   "outputs": [
    {
     "name": "stdout",
     "output_type": "stream",
     "text": [
      "3 constant columns found\n"
     ]
    }
   ],
   "source": [
    "\n",
    "df.fillna(df.median(), inplace=True)\n",
    "print((X_train.nunique() == 1).sum(), \"constant columns found\")\n"
   ]
  },
  {
   "cell_type": "code",
   "execution_count": 40,
   "id": "70ef4aa9-67db-44d1-9c11-20f65d32ea32",
   "metadata": {},
   "outputs": [
    {
     "name": "stdout",
     "output_type": "stream",
     "text": [
      "Year            0\n",
      "Day             0\n",
      "Hour            0\n",
      "DOY_frac      505\n",
      "R             505\n",
      "Dst             0\n",
      "AE              0\n",
      "AL              0\n",
      "AU              0\n",
      "Ap              0\n",
      "F107            0\n",
      "Kp1             0\n",
      "Kp2             0\n",
      "Kp3             0\n",
      "Kp4             0\n",
      "Kp5             0\n",
      "Kp6             0\n",
      "Kp7             0\n",
      "Kp8             0\n",
      "SW_speed      505\n",
      "SW_density      0\n",
      "SW_temp       505\n",
      "IMF_total     505\n",
      "IMF_Bx        505\n",
      "IMF_By        505\n",
      "IMF_Bz        505\n",
      "dtype: int64\n",
      "Year          0\n",
      "Day           0\n",
      "Hour          0\n",
      "DOY_frac      0\n",
      "R             0\n",
      "Dst           0\n",
      "AE            0\n",
      "AL            0\n",
      "AU            0\n",
      "Ap            0\n",
      "F107          0\n",
      "Kp1           0\n",
      "Kp2           0\n",
      "Kp3           0\n",
      "Kp4           0\n",
      "Kp5           0\n",
      "Kp6           0\n",
      "Kp7           0\n",
      "Kp8           0\n",
      "SW_speed      0\n",
      "SW_density    0\n",
      "SW_temp       0\n",
      "IMF_total     0\n",
      "IMF_Bx        0\n",
      "IMF_By        0\n",
      "IMF_Bz        0\n",
      "dtype: int64\n"
     ]
    }
   ],
   "source": [
    "import numpy as np\n",
    "print(X_train.isnull().sum())\n",
    "print(np.isinf(X_train).sum())\n"
   ]
  },
  {
   "cell_type": "code",
   "execution_count": 42,
   "id": "bf9f9762-e7e3-4496-8b3d-530f561c99d1",
   "metadata": {},
   "outputs": [],
   "source": [
    "constant_columns = [col for col in X_train.columns if X_train[col].nunique() == 1]\n",
    "X_train.drop(columns=constant_columns, inplace=True)\n",
    "X_test.drop(columns=constant_columns, inplace=True)\n"
   ]
  },
  {
   "cell_type": "code",
   "execution_count": 38,
   "id": "e9c8d0fc-c511-49a1-9092-533ffc0a1806",
   "metadata": {
    "scrolled": true
   },
   "outputs": [],
   "source": [
    "from sklearn.model_selection import train_test_split\n",
    "\n",
    "X = df.drop(columns=['storm'])\n",
    "y = df['storm']\n",
    "\n",
    "X_train, X_test, y_train, y_test = train_test_split(X, y, test_size=0.2, random_state=42)\n"
   ]
  },
  {
   "cell_type": "code",
   "execution_count": 44,
   "id": "c7cdaf9c-d82c-4497-b186-acf7c6472d8e",
   "metadata": {},
   "outputs": [],
   "source": [
    "X_train.fillna(X_train.mean(), inplace=True)\n",
    "X_test.fillna(X_test.mean(), inplace=True)\n"
   ]
  },
  {
   "cell_type": "code",
   "execution_count": 45,
   "id": "060abd57-9802-4747-a24d-f769d73b8c47",
   "metadata": {},
   "outputs": [],
   "source": [
    "X_train.replace([np.inf, -np.inf], np.nan, inplace=True)\n",
    "X_test.replace([np.inf, -np.inf], np.nan, inplace=True)\n",
    "\n",
    "X_train.fillna(X_train.mean(), inplace=True)\n",
    "X_test.fillna(X_test.mean(), inplace=True)\n"
   ]
  },
  {
   "cell_type": "code",
   "execution_count": 47,
   "id": "319fec66-2b46-454f-8239-99dad4607306",
   "metadata": {},
   "outputs": [
    {
     "name": "stdout",
     "output_type": "stream",
     "text": [
      "Constant columns: Index(['DOY_frac', 'R', 'SW_speed', 'SW_temp', 'IMF_total', 'IMF_Bx', 'IMF_By',\n",
      "       'IMF_Bz'],\n",
      "      dtype='object')\n"
     ]
    }
   ],
   "source": [
    "constant_cols = X_train.columns[X_train.nunique() <= 1]\n",
    "print(\"Constant columns:\", constant_cols)\n"
   ]
  },
  {
   "cell_type": "code",
   "execution_count": 48,
   "id": "59817efc-b951-4058-baaf-13facccabc13",
   "metadata": {},
   "outputs": [],
   "source": [
    "X_train.drop(columns=constant_cols, inplace=True)\n",
    "X_test.drop(columns=constant_cols, inplace=True)\n"
   ]
  },
  {
   "cell_type": "code",
   "execution_count": 58,
   "id": "f32a2965-9a54-4ada-9426-9ecbe59a55db",
   "metadata": {},
   "outputs": [
    {
     "name": "stdout",
     "output_type": "stream",
     "text": [
      "Random Forest Results:\n",
      "[[101   0]\n",
      " [  0  26]]\n",
      "              precision    recall  f1-score   support\n",
      "\n",
      "           0       1.00      1.00      1.00       101\n",
      "           1       1.00      1.00      1.00        26\n",
      "\n",
      "    accuracy                           1.00       127\n",
      "   macro avg       1.00      1.00      1.00       127\n",
      "weighted avg       1.00      1.00      1.00       127\n",
      "\n"
     ]
    }
   ],
   "source": [
    "from sklearn.preprocessing import StandardScaler\n",
    "\n",
    "scaler = StandardScaler()\n",
    "X_train_scaled = scaler.fit_transform(X_train)\n",
    "X_test_scaled = scaler.transform(X_test)\n",
    "from sklearn.ensemble import RandomForestClassifier\n",
    "from sklearn.metrics import classification_report, confusion_matrix\n",
    "\n",
    "rf = RandomForestClassifier(n_estimators=100, random_state=42)\n",
    "rf.fit(X_train, y_train)\n",
    "y_pred_rf = rf.predict(X_test)\n",
    "\n",
    "print(\"Random Forest Results:\")\n",
    "print(confusion_matrix(y_test, y_pred_rf))\n",
    "print(classification_report(y_test, y_pred_rf))\n"
   ]
  },
  {
   "cell_type": "code",
   "execution_count": null,
   "id": "d84c60c3-f2b5-478f-8a1b-5ac4c7d3cca5",
   "metadata": {},
   "outputs": [],
   "source": []
  },
  {
   "cell_type": "code",
   "execution_count": 54,
   "id": "f6638d60-ec47-4484-8f48-77c689d7ba65",
   "metadata": {},
   "outputs": [
    {
     "name": "stdout",
     "output_type": "stream",
     "text": [
      "XGBoost Results:\n",
      "[[101   0]\n",
      " [  0  26]]\n",
      "              precision    recall  f1-score   support\n",
      "\n",
      "           0       1.00      1.00      1.00       101\n",
      "           1       1.00      1.00      1.00        26\n",
      "\n",
      "    accuracy                           1.00       127\n",
      "   macro avg       1.00      1.00      1.00       127\n",
      "weighted avg       1.00      1.00      1.00       127\n",
      "\n"
     ]
    }
   ],
   "source": [
    "\n",
    "from xgboost import XGBClassifier\n",
    "\n",
    "xgb = XGBClassifier(eval_metric='logloss')  # No need for use_label_encoder\n",
    "\n",
    "xgb.fit(X_train, y_train)\n",
    "y_pred_xgb = xgb.predict(X_test)\n",
    "\n",
    "print(\"XGBoost Results:\")\n",
    "print(confusion_matrix(y_test, y_pred_xgb))\n",
    "print(classification_report(y_test, y_pred_xgb))\n"
   ]
  },
  {
   "cell_type": "code",
   "execution_count": 63,
   "id": "dd9cd1f8-9075-43d6-ba90-14d6c3942086",
   "metadata": {},
   "outputs": [
    {
     "data": {
      "image/png": "[encoded data removed]",
      "text/plain": [
       "<Figure size 1000x500 with 1 Axes>"
      ]
     },
     "metadata": {},
     "output_type": "display_data"
    },
    {
     "data": {
      "image/png": "[encoded data removed]",
      "text/plain": [
       "<Figure size 1000x500 with 1 Axes>"
      ]
     },
     "metadata": {},
     "output_type": "display_data"
    }
   ],
   "source": [
    "# Scale only selected features\n",
    "# Scale only selected features\n",
    "import matplotlib.pyplot as plt\n",
    "\n",
    "selected_features = [\n",
    "    'Kp1', 'Kp2', 'Kp3', 'Kp4', 'Kp5', 'Kp6', 'Kp7', 'Kp8',\n",
    "    'AE', 'AL', 'AU', 'Ap', 'F107'\n",
    "]\n",
    "\n",
    "scaler = StandardScaler()\n",
    "X_train_scaled = scaler.fit_transform(X_train[selected_features])\n",
    "X_test_scaled = scaler.transform(X_test[selected_features])\n",
    "\n",
    "# Train the model\n",
    "rf.fit(X_train_scaled, y_train)\n",
    "\n",
    "# Feature importances\n",
    "importances = pd.Series(rf.feature_importances_, index=selected_features)\n",
    "importances.sort_values(ascending=False).plot(kind='bar', figsize=(10, 5), title=\"Feature Importances - Random Forest\")\n",
    "plt.tight_layout()\n",
    "plt.show()\n",
    "\n",
    "selected_features = [\n",
    "    'Kp1', 'Kp2', 'Kp3', 'Kp4', 'Kp5', 'Kp6', 'Kp7', 'Kp8',\n",
    "    'AE', 'AL', 'AU', 'Ap', 'F107'\n",
    "]\n",
    "\n",
    "scaler = StandardScaler()\n",
    "X_train_scaled = scaler.fit_transform(X_train[selected_features])\n",
    "X_test_scaled = scaler.transform(X_test[selected_features])\n",
    "\n",
    "# Train the model\n",
    "rf.fit(X_train_scaled, y_train)\n",
    "\n",
    "# Feature importances\n",
    "importances = pd.Series(rf.feature_importances_, index=selected_features)\n",
    "importances.sort_values(ascending=False).plot(kind='bar', figsize=(10, 5), title=\"Feature Importances - Random Forest\")\n",
    "plt.tight_layout()\n",
    "plt.show()\n"
   ]
  },
  {
   "cell_type": "code",
   "execution_count": 64,
   "id": "c2c8b0b1-b214-4bc5-8c69-1ab590bebd13",
   "metadata": {},
   "outputs": [
    {
     "data": {
      "text/html": [
       "<style>#sk-container-id-1 {color: black;background-color: white;}#sk-container-id-1 pre{padding: 0;}#sk-container-id-1 div.sk-toggleable {background-color: white;}#sk-container-id-1 label.sk-toggleable__label {cursor: pointer;display: block;width: 100%;margin-bottom: 0;padding: 0.3em;box-sizing: border-box;text-align: center;}#sk-container-id-1 label.sk-toggleable__label-arrow:before {content: \"▸\";float: left;margin-right: 0.25em;color: #696969;}#sk-container-id-1 label.sk-toggleable__label-arrow:hover:before {color: black;}#sk-container-id-1 div.sk-estimator:hover label.sk-toggleable__label-arrow:before {color: black;}#sk-container-id-1 div.sk-toggleable__content {max-height: 0;max-width: 0;overflow: hidden;text-align: left;background-color: #f0f8ff;}#sk-container-id-1 div.sk-toggleable__content pre {margin: 0.2em;color: black;border-radius: 0.25em;background-color: #f0f8ff;}#sk-container-id-1 input.sk-toggleable__control:checked~div.sk-toggleable__content {max-height: 200px;max-width: 100%;overflow: auto;}#sk-container-id-1 input.sk-toggleable__control:checked~label.sk-toggleable__label-arrow:before {content: \"▾\";}#sk-container-id-1 div.sk-estimator input.sk-toggleable__control:checked~label.sk-toggleable__label {background-color: #d4ebff;}#sk-container-id-1 div.sk-label input.sk-toggleable__control:checked~label.sk-toggleable__label {background-color: #d4ebff;}#sk-container-id-1 input.sk-hidden--visually {border: 0;clip: rect(1px 1px 1px 1px);clip: rect(1px, 1px, 1px, 1px);height: 1px;margin: -1px;overflow: hidden;padding: 0;position: absolute;width: 1px;}#sk-container-id-1 div.sk-estimator {font-family: monospace;background-color: #f0f8ff;border: 1px dotted black;border-radius: 0.25em;box-sizing: border-box;margin-bottom: 0.5em;}#sk-container-id-1 div.sk-estimator:hover {background-color: #d4ebff;}#sk-container-id-1 div.sk-parallel-item::after {content: \"\";width: 100%;border-bottom: 1px solid gray;flex-grow: 1;}#sk-container-id-1 div.sk-label:hover label.sk-toggleable__label {background-color: #d4ebff;}#sk-container-id-1 div.sk-serial::before {content: \"\";position: absolute;border-left: 1px solid gray;box-sizing: border-box;top: 0;bottom: 0;left: 50%;z-index: 0;}#sk-container-id-1 div.sk-serial {display: flex;flex-direction: column;align-items: center;background-color: white;padding-right: 0.2em;padding-left: 0.2em;position: relative;}#sk-container-id-1 div.sk-item {position: relative;z-index: 1;}#sk-container-id-1 div.sk-parallel {display: flex;align-items: stretch;justify-content: center;background-color: white;position: relative;}#sk-container-id-1 div.sk-item::before, #sk-container-id-1 div.sk-parallel-item::before {content: \"\";position: absolute;border-left: 1px solid gray;box-sizing: border-box;top: 0;bottom: 0;left: 50%;z-index: -1;}#sk-container-id-1 div.sk-parallel-item {display: flex;flex-direction: column;z-index: 1;position: relative;background-color: white;}#sk-container-id-1 div.sk-parallel-item:first-child::after {align-self: flex-end;width: 50%;}#sk-container-id-1 div.sk-parallel-item:last-child::after {align-self: flex-start;width: 50%;}#sk-container-id-1 div.sk-parallel-item:only-child::after {width: 0;}#sk-container-id-1 div.sk-dashed-wrapped {border: 1px dashed gray;margin: 0 0.4em 0.5em 0.4em;box-sizing: border-box;padding-bottom: 0.4em;background-color: white;}#sk-container-id-1 div.sk-label label {font-family: monospace;font-weight: bold;display: inline-block;line-height: 1.2em;}#sk-container-id-1 div.sk-label-container {text-align: center;}#sk-container-id-1 div.sk-container {/* jupyter's `normalize.less` sets `[hidden] { display: none; }` but bootstrap.min.css set `[hidden] { display: none !important; }` so we also need the `!important` here to be able to override the default hidden behavior on the sphinx rendered scikit-learn.org. See: https://github.com/scikit-learn/scikit-learn/issues/21755 */display: inline-block !important;position: relative;}#sk-container-id-1 div.sk-text-repr-fallback {display: none;}</style><div id=\"sk-container-id-1\" class=\"sk-top-container\"><div class=\"sk-text-repr-fallback\"><pre>XGBClassifier(base_score=None, booster=None, callbacks=None,\n",
       "              colsample_bylevel=None, colsample_bynode=None,\n",
       "              colsample_bytree=None, device=None, early_stopping_rounds=None,\n",
       "              enable_categorical=False, eval_metric=None, feature_types=None,\n",
       "              gamma=None, grow_policy=None, importance_type=None,\n",
       "              interaction_constraints=None, learning_rate=None, max_bin=None,\n",
       "              max_cat_threshold=None, max_cat_to_onehot=None,\n",
       "              max_delta_step=None, max_depth=None, max_leaves=None,\n",
       "              min_child_weight=None, missing=nan, monotone_constraints=None,\n",
       "              multi_strategy=None, n_estimators=None, n_jobs=None,\n",
       "              num_parallel_tree=None, random_state=None, ...)</pre><b>In a Jupyter environment, please rerun this cell to show the HTML representation or trust the notebook. <br />On GitHub, the HTML representation is unable to render, please try loading this page with nbviewer.org.</b></div><div class=\"sk-container\" hidden><div class=\"sk-item\"><div class=\"sk-estimator sk-toggleable\"><input class=\"sk-toggleable__control sk-hidden--visually\" id=\"sk-estimator-id-1\" type=\"checkbox\" checked><label for=\"sk-estimator-id-1\" class=\"sk-toggleable__label sk-toggleable__label-arrow\">XGBClassifier</label><div class=\"sk-toggleable__content\"><pre>XGBClassifier(base_score=None, booster=None, callbacks=None,\n",
       "              colsample_bylevel=None, colsample_bynode=None,\n",
       "              colsample_bytree=None, device=None, early_stopping_rounds=None,\n",
       "              enable_categorical=False, eval_metric=None, feature_types=None,\n",
       "              gamma=None, grow_policy=None, importance_type=None,\n",
       "              interaction_constraints=None, learning_rate=None, max_bin=None,\n",
       "              max_cat_threshold=None, max_cat_to_onehot=None,\n",
       "              max_delta_step=None, max_depth=None, max_leaves=None,\n",
       "              min_child_weight=None, missing=nan, monotone_constraints=None,\n",
       "              multi_strategy=None, n_estimators=None, n_jobs=None,\n",
       "              num_parallel_tree=None, random_state=None, ...)</pre></div></div></div></div></div>"
      ],
      "text/plain": [
       "XGBClassifier(base_score=None, booster=None, callbacks=None,\n",
       "              colsample_bylevel=None, colsample_bynode=None,\n",
       "              colsample_bytree=None, device=None, early_stopping_rounds=None,\n",
       "              enable_categorical=False, eval_metric=None, feature_types=None,\n",
       "              gamma=None, grow_policy=None, importance_type=None,\n",
       "              interaction_constraints=None, learning_rate=None, max_bin=None,\n",
       "              max_cat_threshold=None, max_cat_to_onehot=None,\n",
       "              max_delta_step=None, max_depth=None, max_leaves=None,\n",
       "              min_child_weight=None, missing=nan, monotone_constraints=None,\n",
       "              multi_strategy=None, n_estimators=None, n_jobs=None,\n",
       "              num_parallel_tree=None, random_state=None, ...)"
      ]
     },
     "execution_count": 64,
     "metadata": {},
     "output_type": "execute_result"
    }
   ],
   "source": [
    "xgb.fit(X_train_scaled, y_train)\n"
   ]
  },
  {
   "cell_type": "code",
   "execution_count": 65,
   "id": "6e8780fe-6d1a-460c-9ba5-2ddc6c279a1d",
   "metadata": {},
   "outputs": [
    {
     "name": "stdout",
     "output_type": "stream",
     "text": [
      "Index(['Day', 'Hour', 'AE', 'AL', 'AU', 'Ap', 'F107', 'Kp1', 'Kp2', 'Kp3',\n",
      "       'Kp4', 'Kp5', 'Kp6', 'Kp7', 'Kp8'],\n",
      "      dtype='object')\n"
     ]
    }
   ],
   "source": [
    "# If 'SW_speed' and 'SW_temp' were dropped, reload or add them again\n",
    "print(X_train.columns)  # Confirm they exist\n"
   ]
  },
  {
   "cell_type": "code",
   "execution_count": 66,
   "id": "982c4371-b0bd-43f0-aa1a-7a1792ef5718",
   "metadata": {},
   "outputs": [
    {
     "name": "stdout",
     "output_type": "stream",
     "text": [
      "[[101   0]\n",
      " [  0  26]]\n",
      "              precision    recall  f1-score   support\n",
      "\n",
      "           0       1.00      1.00      1.00       101\n",
      "           1       1.00      1.00      1.00        26\n",
      "\n",
      "    accuracy                           1.00       127\n",
      "   macro avg       1.00      1.00      1.00       127\n",
      "weighted avg       1.00      1.00      1.00       127\n",
      "\n"
     ]
    }
   ],
   "source": [
    "from sklearn.metrics import classification_report, confusion_matrix\n",
    "\n",
    "y_pred = xgb.predict(X_test_scaled)\n",
    "print(confusion_matrix(y_test, y_pred))\n",
    "print(classification_report(y_test, y_pred))\n"
   ]
  },
  {
   "cell_type": "code",
   "execution_count": 67,
   "id": "14ff2394-f609-4b30-ba21-4a5cc73e54a9",
   "metadata": {},
   "outputs": [
    {
     "name": "stdout",
     "output_type": "stream",
     "text": [
      "Cross-validation scores: [0.99009901 0.98019802 0.99009901 0.96039604 0.97029703]\n"
     ]
    }
   ],
   "source": [
    "from sklearn.model_selection import cross_val_score\n",
    "scores = cross_val_score(xgb, X_train_scaled, y_train, cv=5)\n",
    "print(\"Cross-validation scores:\", scores)\n"
   ]
  },
  {
   "cell_type": "code",
   "execution_count": 68,
   "id": "91d91b79-5a61-4797-9fa8-2bc1c6a57c09",
   "metadata": {},
   "outputs": [
    {
     "name": "stdout",
     "output_type": "stream",
     "text": [
      "Best params: {'colsample_bytree': 0.8, 'learning_rate': 0.1, 'max_depth': 3, 'n_estimators': 100, 'subsample': 1.0}\n"
     ]
    }
   ],
   "source": [
    "from sklearn.model_selection import GridSearchCV\n",
    "from xgboost import XGBClassifier\n",
    "\n",
    "param_grid = {\n",
    "    'n_estimators': [100, 200],\n",
    "    'max_depth': [3, 5, 7],\n",
    "    'learning_rate': [0.01, 0.1, 0.2],\n",
    "    'subsample': [0.8, 1.0],\n",
    "    'colsample_bytree': [0.8, 1.0]\n",
    "}\n",
    "\n",
    "xgb = XGBClassifier()\n",
    "grid_search = GridSearchCV(xgb, param_grid, cv=5, scoring='accuracy')\n",
    "grid_search.fit(X_train_scaled, y_train)\n",
    "\n",
    "print(\"Best params:\", grid_search.best_params_)\n"
   ]
  },
  {
   "cell_type": "code",
   "execution_count": 69,
   "id": "62a0b26c-bc49-4d84-8378-126b01ee8512",
   "metadata": {},
   "outputs": [
    {
     "name": "stdout",
     "output_type": "stream",
     "text": [
      "[[101   0]\n",
      " [  0  26]]\n",
      "              precision    recall  f1-score   support\n",
      "\n",
      "           0       1.00      1.00      1.00       101\n",
      "           1       1.00      1.00      1.00        26\n",
      "\n",
      "    accuracy                           1.00       127\n",
      "   macro avg       1.00      1.00      1.00       127\n",
      "weighted avg       1.00      1.00      1.00       127\n",
      "\n"
     ]
    },
    {
     "name": "stderr",
     "output_type": "stream",
     "text": [
      "C:\\Users\\MOHD ASHHAD\\anaconda3\\Lib\\site-packages\\xgboost\\core.py:158: UserWarning: [23:16:38] WARNING: C:\\buildkite-agent\\builds\\buildkite-windows-cpu-autoscaling-group-i-0ed59c031377d09b8-1\\xgboost\\xgboost-ci-windows\\src\\learner.cc:740: \n",
      "Parameters: { \"use_label_encoder\" } are not used.\n",
      "\n",
      "  warnings.warn(smsg, UserWarning)\n"
     ]
    }
   ],
   "source": [
    "from xgboost import XGBClassifier\n",
    "\n",
    "xgb_best = XGBClassifier(\n",
    "    colsample_bytree=0.8,\n",
    "    learning_rate=0.1,\n",
    "    max_depth=5,\n",
    "    n_estimators=200,\n",
    "    subsample=1.0,\n",
    "    use_label_encoder=False,\n",
    "    eval_metric='logloss'\n",
    ")\n",
    "\n",
    "xgb_best.fit(X_train_scaled, y_train)\n",
    "y_pred = xgb_best.predict(X_test_scaled)\n",
    "\n",
    "from sklearn.metrics import classification_report, confusion_matrix\n",
    "print(confusion_matrix(y_test, y_pred))\n",
    "print(classification_report(y_test, y_pred))\n"
   ]
  },
  {
   "cell_type": "code",
   "execution_count": 70,
   "id": "56065bdc-1f01-4eac-8e38-b4a1600ac291",
   "metadata": {},
   "outputs": [
    {
     "data": {
      "text/plain": [
       "['xgb_storm_classifier.pkl']"
      ]
     },
     "execution_count": 70,
     "metadata": {},
     "output_type": "execute_result"
    }
   ],
   "source": [
    "import joblib\n",
    "\n",
    "# Save the model\n",
    "joblib.dump(xgb_best, 'xgb_storm_classifier.pkl')\n",
    "\n",
    "# To load later:\n",
    "# xgb_loaded = joblib.load('xgb_storm_classifier.pkl')\n"
   ]
  },
  {
   "cell_type": "code",
   "execution_count": 71,
   "id": "50d4eb8d-ae8a-474c-b345-374bd1db9ac4",
   "metadata": {},
   "outputs": [
    {
     "data": {
      "image/png": "[encoded data removed]",
      "text/plain": [
       "<Figure size 800x600 with 1 Axes>"
      ]
     },
     "metadata": {},
     "output_type": "display_data"
    }
   ],
   "source": [
    "from sklearn.metrics import roc_curve, auc\n",
    "import matplotlib.pyplot as plt\n",
    "\n",
    "y_probs = xgb_best.predict_proba(X_test_scaled)[:, 1]\n",
    "fpr, tpr, thresholds = roc_curve(y_test, y_probs)\n",
    "roc_auc = auc(fpr, tpr)\n",
    "\n",
    "plt.figure(figsize=(8, 6))\n",
    "plt.plot(fpr, tpr, label=f'ROC curve (AUC = {roc_auc:.2f})')\n",
    "plt.plot([0, 1], [0, 1], 'k--', lw=2)\n",
    "plt.xlabel('False Positive Rate')\n",
    "plt.ylabel('True Positive Rate')\n",
    "plt.title('Receiver Operating Characteristic - XGBoost')\n",
    "plt.legend(loc='lower right')\n",
    "plt.grid()\n",
    "plt.tight_layout()\n",
    "plt.show()\n"
   ]
  },
  {
   "cell_type": "code",
   "execution_count": 72,
   "id": "90a54383-ae3e-4e81-80fe-03c731815979",
   "metadata": {},
   "outputs": [
    {
     "data": {
      "image/png": "[encoded data removed]",
      "text/plain": [
       "<Figure size 800x600 with 1 Axes>"
      ]
     },
     "metadata": {},
     "output_type": "display_data"
    }
   ],
   "source": [
    "import pandas as pd\n",
    "\n",
    "importances = pd.Series(xgb_best.feature_importances_, index=selected_features)\n",
    "importances.sort_values(ascending=True).plot(kind='barh', figsize=(8, 6), title='Feature Importances - XGBoost')\n",
    "plt.tight_layout()\n",
    "plt.show()\n"
   ]
  },
  {
   "cell_type": "code",
   "execution_count": null,
   "id": "216818af-200a-4496-82ba-6fa868722414",
   "metadata": {},
   "outputs": [],
   "source": []
  },
  {
   "cell_type": "code",
   "execution_count": null,
   "id": "01d8557a-8a76-45af-b742-6cd60e4b1756",
   "metadata": {},
   "outputs": [],
   "source": []
  }
 ],
 "metadata": {
  "kernelspec": {
   "display_name": "Python 3 (ipykernel)",
   "language": "python",
   "name": "python3"
  },
  "language_info": {
   "codemirror_mode": {
    "name": "ipython",
    "version": 3
   },
   "file_extension": ".py",
   "mimetype": "text/x-python",
   "name": "python",
   "nbconvert_exporter": "python",
   "pygments_lexer": "ipython3",
   "version": "3.11.7"
  }
 },
 "nbformat": 4,
 "nbformat_minor": 5
}
